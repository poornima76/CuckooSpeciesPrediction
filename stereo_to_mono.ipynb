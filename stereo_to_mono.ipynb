{
 "cells": [
  {
   "cell_type": "markdown",
   "metadata": {},
   "source": [
    "## Converting Audio files from stereo to mono"
   ]
  },
  {
   "cell_type": "code",
   "execution_count": 1,
   "metadata": {},
   "outputs": [],
   "source": [
    "import os\n",
    "import librosa\n",
    "import soundfile as sf\n",
    "\n",
    "# Function to convert stereo audio to mono\n",
    "def convert_stereo_to_mono(input_path, output_path):\n",
    "    # Load stereo audio file\n",
    "    stereo_audio, sr = librosa.load(input_path, sr=None, mono=False)\n",
    "\n",
    "    # Convert to mono if stereo\n",
    "    if stereo_audio.ndim > 1:\n",
    "        mono_audio = librosa.to_mono(stereo_audio)\n",
    "    else:\n",
    "        mono_audio = stereo_audio\n",
    "\n",
    "    # Save the mono audio file\n",
    "    sf.write(output_path, mono_audio, sr)\n",
    "\n",
    "# Specify the folder containing audio files\n",
    "folder_path = ''  #specify path name\n",
    "\n",
    "# Specify the folder to save mono audio files\n",
    "output_folder = '' #specify path name \n",
    "\n",
    "# Create the output folder if it doesn't exist\n",
    "os.makedirs(output_folder, exist_ok=True)\n",
    "\n",
    "# Iterate through all audio files in the folder\n",
    "for filename in os.listdir(folder_path):\n",
    "    if filename.endswith('.wav'):  # Adjust the file extension as needed\n",
    "        input_path = os.path.join(folder_path, filename)\n",
    "        output_path = os.path.join(output_folder, filename)\n",
    "\n",
    "        # Convert stereo to mono and save the processed file\n",
    "        convert_stereo_to_mono(input_path, output_path)\n",
    "\n",
    "print(\"Conversion complete.\")\n",
    "\n"
   ]
  },
  {
   "cell_type": "code",
   "execution_count": null,
   "metadata": {},
   "outputs": [],
   "source": []
  }
 ],
 "metadata": {
  "kernelspec": {
   "display_name": "Python 3 (ipykernel)",
   "language": "python",
   "name": "python3"
  },
  "language_info": {
   "codemirror_mode": {
    "name": "ipython",
    "version": 3
   },
   "file_extension": ".py",
   "mimetype": "text/x-python",
   "name": "python",
   "nbconvert_exporter": "python",
   "pygments_lexer": "ipython3",
   "version": "3.9.18"
  }
 },
 "nbformat": 4,
 "nbformat_minor": 5
}
